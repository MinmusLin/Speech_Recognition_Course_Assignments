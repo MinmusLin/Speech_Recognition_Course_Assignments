{
 "cells": [
  {
   "cell_type": "code",
   "execution_count": null,
   "id": "2104cf42-f574-40a8-83cd-e47e3d23af40",
   "metadata": {},
   "outputs": [],
   "source": [
    "pip install python_speech_features hmmlearn"
   ]
  },
  {
   "cell_type": "code",
   "execution_count": null,
   "id": "9c56bf24-ee3b-47a6-8ddc-70ceddda352e",
   "metadata": {},
   "outputs": [],
   "source": [
    "import os\n",
    "import pickle\n",
    "import numpy as np\n",
    "import scipy.io.wavfile as wvf\n",
    "from python_speech_features import mfcc\n",
    "from hmmlearn.hmm import GMMHMM\n",
    "import heapq\n",
    "import scipy.signal as signal\n",
    "from python_speech_features import delta\n",
    "from scipy.fftpack import dct"
   ]
  },
  {
   "cell_type": "code",
   "execution_count": null,
   "id": "2cd321c2-2367-48fe-adeb-1ce31cffe226",
   "metadata": {},
   "outputs": [],
   "source": [
    "train_data_path = os.path.join(os.getcwd(), 'datas/train/speech')\n",
    "label_path = os.path.join(os.getcwd(), 'datas/labels/trainprompts_m')\n",
    "test_data_path = os.path.join(os.getcwd(), 'datas/test/speech')\n",
    "model_path = 'hmm_gmm_model.pkl'"
   ]
  },
  {
   "cell_type": "code",
   "execution_count": null,
   "id": "13bbb75c-5f13-4ed6-9888-e357a2d8eccb",
   "metadata": {},
   "outputs": [],
   "source": [
    "def wav2mfcc(labels, data_paths):\n",
    "    trng_data = {}\n",
    "    for label, data_path in zip(labels, data_paths):\n",
    "        mfccs = []\n",
    "        rate, sig = wvf.read(data_path)\n",
    "        mfcc_feat = mfcc(sig, rate)\n",
    "        mfccs.append(mfcc_feat)\n",
    "        trng_data[label] = mfccs\n",
    "    return trng_data"
   ]
  },
  {
   "cell_type": "code",
   "execution_count": null,
   "id": "a97d66f4-2886-4247-bafc-060f41407c4e",
   "metadata": {},
   "outputs": [],
   "source": [
    "def obtain_config(labels):\n",
    "    conf = {}\n",
    "    for label in labels:\n",
    "        conf[label] = {}\n",
    "        conf[label]['n_components'] = 2\n",
    "        conf[label]['n_mix'] = 2\n",
    "    return conf"
   ]
  },
  {
   "cell_type": "code",
   "execution_count": null,
   "id": "698e42ef-fa79-414c-8ece-a9903d50663a",
   "metadata": {},
   "outputs": [],
   "source": [
    "def get_hmm_gmm(trng_datas=None, GMM_configs=None, model_path='hmm_gmm_model.pkl', from_file=False):\n",
    "    hmm_gmm = {}\n",
    "    if not from_file:\n",
    "        for label, trng_data in trng_datas.items():\n",
    "            GMM_config = GMM_configs[label]\n",
    "            hmm_gmm[label] = GMMHMM(\n",
    "                n_components=GMM_config['n_components'],\n",
    "                n_mix=GMM_config['n_mix'])\n",
    "            if trng_data:\n",
    "                hmm_gmm[label].fit(np.vstack(trng_data))\n",
    "        pickle.dump(hmm_gmm, open(model_path, 'wb'))\n",
    "    else:\n",
    "        hmm_gmm = pickle.load(open(model_path, 'rb'))\n",
    "    return hmm_gmm"
   ]
  },
  {
   "cell_type": "code",
   "execution_count": null,
   "id": "976f1398-ade5-406e-94a5-74d567f55830",
   "metadata": {},
   "outputs": [],
   "source": [
    "def train(train_data_path, label_path, model_path):\n",
    "    with open(os.path.join(label_path)) as f:\n",
    "        labels = f.readlines()\n",
    "    data_paths = [train_data_path + '/' + line.split()[0] + '.wav' for line in labels]\n",
    "    labels = [' '.join(line.split()[1:]).strip() for line in labels]\n",
    "    train_datas = wav2mfcc(labels, data_paths)\n",
    "    GMM_configs = obtain_config(labels)\n",
    "    hmm_gmm = get_hmm_gmm(train_datas, GMM_configs, model_path)\n",
    "    return hmm_gmm\n",
    "\n",
    "\n",
    "hmm_gmm = train(train_data_path, label_path, model_path)\n",
    "print(hmm_gmm)"
   ]
  },
  {
   "cell_type": "code",
   "execution_count": null,
   "id": "fe94777c-f028-4152-bae3-065c9bf75c25",
   "metadata": {},
   "outputs": [],
   "source": [
    "def test_features(feature_file, hmm_gmm):\n",
    "    mfcc_feat = np.load(feature_file)\n",
    "    pred = {}\n",
    "    for model in hmm_gmm:\n",
    "        pred[model] = hmm_gmm[model].score(mfcc_feat)\n",
    "    return get_nbest(pred, 2), pred\n",
    "\n",
    "\n",
    "def get_nbest(d, n):\n",
    "    return heapq.nlargest(n, d, key=lambda k: d[k])\n",
    "\n",
    "\n",
    "def predict_label(feature_file, hmm_gmm):\n",
    "    predicted = test_features(feature_file, hmm_gmm)\n",
    "    return predicted\n",
    "\n",
    "\n",
    "feature_file = os.path.join('Features.npy')\n",
    "predicted, probs = predict_label(feature_file, hmm_gmm)\n",
    "print('预测结果: %s' % predicted[0])"
   ]
  }
 ],
 "metadata": {
  "kernelspec": {
   "display_name": "MindSpore",
   "language": "python",
   "name": "mindspore"
  },
  "language_info": {
   "codemirror_mode": {
    "name": "ipython",
    "version": 3
   },
   "file_extension": ".py",
   "mimetype": "text/x-python",
   "name": "python",
   "nbconvert_exporter": "python",
   "pygments_lexer": "ipython3",
   "version": "3.7.10"
  }
 },
 "nbformat": 4,
 "nbformat_minor": 5
}
